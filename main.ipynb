{
 "cells": [
  {
   "cell_type": "code",
   "execution_count": 1,
   "id": "903501c2",
   "metadata": {},
   "outputs": [],
   "source": [
    "file = open(\"inventory.txt\",\"w\")\n",
    "\n",
    "file.close()"
   ]
  },
  {
   "cell_type": "code",
   "execution_count": 2,
   "id": "de726992",
   "metadata": {},
   "outputs": [],
   "source": [
    "fd= open(\"inventory.txt\",\"r\")\n",
    "\n",
    "tst= fd.read()\n",
    "\n",
    "fd.close()"
   ]
  },
  {
   "cell_type": "code",
   "execution_count": 4,
   "id": "01f64ce9",
   "metadata": {},
   "outputs": [
    {
     "name": "stdout",
     "output_type": "stream",
     "text": [
      "1,5 star,5 ,100\n",
      "2,Milky Bar ,5 ,100\n",
      "3,Cake,300,2\n",
      "4,Coke,40 ,5\n"
     ]
    }
   ],
   "source": [
    "print(tst)"
   ]
  },
  {
   "cell_type": "code",
   "execution_count": 6,
   "id": "2e7a528f",
   "metadata": {},
   "outputs": [
    {
     "data": {
      "text/plain": [
       "4"
      ]
     },
     "execution_count": 6,
     "metadata": {},
     "output_type": "execute_result"
    }
   ],
   "source": [
    "len(tst.split('\\n'))"
   ]
  },
  {
   "cell_type": "code",
   "execution_count": 7,
   "id": "05618139",
   "metadata": {},
   "outputs": [],
   "source": [
    "fd= open(\"inventory.txt\",\"r\")\n",
    "\n",
    "products= fd.read().split('\\n')\n",
    "\n",
    "fd.close()"
   ]
  },
  {
   "cell_type": "code",
   "execution_count": 10,
   "id": "4cbfd7ca",
   "metadata": {},
   "outputs": [
    {
     "name": "stdout",
     "output_type": "stream",
     "text": [
      "1\n",
      "2\n",
      "3\n",
      "4\n"
     ]
    }
   ],
   "source": [
    "for prod in products:\n",
    "    print(prod.split(',')[0])"
   ]
  },
  {
   "cell_type": "code",
   "execution_count": 13,
   "id": "31b1c55f",
   "metadata": {},
   "outputs": [
    {
     "name": "stdout",
     "output_type": "stream",
     "text": [
      "3,Cake,300,2\n"
     ]
    }
   ],
   "source": [
    "user_i = input(\"ENter the prod id\")\n",
    "\n",
    "\n",
    "for p in products:\n",
    "    if(p.split(',')[0]==user_i):\n",
    "        print(p)"
   ]
  },
  {
   "cell_type": "code",
   "execution_count": 24,
   "id": "34738a53",
   "metadata": {},
   "outputs": [
    {
     "name": "stdout",
     "output_type": "stream",
     "text": [
      "['1', '5 star', '5 ', '100']\n",
      "['2', 'Milky Bar ', '5 ', '100']\n",
      "--------------------\n",
      "Product Name     : Cake\n",
      "Price            : 300\n",
      "--------------------\n",
      "Qunatity         : 2\n",
      "BILL             : 600\n",
      "--------------------\n",
      "['3', 'Cake', '300', '0']\n",
      "['4', 'Coke', '40 ', '5']\n"
     ]
    }
   ],
   "source": [
    "id = (input(\"Enter the product id\"))\n",
    "\n",
    "qt= (input(\"Enter the quantity\"))\n",
    "\n",
    "for p in products:\n",
    "    pd = p.split(',')\n",
    "    \n",
    "    if pd[0]== id:\n",
    "        print('-'*20)\n",
    "        print(\"Product Name     :\", pd[1])\n",
    "        print(\"Price            :\",pd[2])\n",
    "        print('-'*20)\n",
    "        print(\"Qunatity         :\",qt)\n",
    "        print(\"BILL             :\",int(qt)* int(pd[2]))\n",
    "        print('-'*20)\n",
    "        \n",
    "        \n",
    "        pd[3]= str(int(pd[3])-int(qt))\n",
    "        \n",
    "    print(pd)"
   ]
  },
  {
   "cell_type": "code",
   "execution_count": 1,
   "id": "ff022130",
   "metadata": {},
   "outputs": [
    {
     "name": "stdout",
     "output_type": "stream",
     "text": [
      "-------------------------------\n",
      "Product Name   :   Cake\n",
      "Price          :   300\n",
      "Quantity       :    2\n",
      "-------------------------------\n",
      "Billing Amount :    600\n",
      "-------------------------------\n",
      "Remaining Products: \n",
      "1,5 star,5 ,100\n",
      "2,Milky Bar ,5 ,100\n",
      "3,Cake,300,0\n",
      "4,Coke,40 ,5\n"
     ]
    }
   ],
   "source": [
    "fd = open('Inventory.txt', 'r')\n",
    "\n",
    "products = fd.read().split('\\n')\n",
    "\n",
    "fd.close()\n",
    "\n",
    "ui_prod_id= input('Enter product ID:')\n",
    "ui_prod_qn = input('Enter product Quantity: ')\n",
    "\n",
    "updated_product_lst = []\n",
    "\n",
    "for product in products:\n",
    "\n",
    "    prod_details = product.split(',')\n",
    "\n",
    "    if (prod_details[0] == ui_prod_id):\n",
    "        print('-------------------------------')\n",
    "        print('Product Name   :  ', prod_details[1])\n",
    "        print('Price          :  ', prod_details[2])\n",
    "        print('Quantity       :   ', ui_prod_qn)\n",
    "        print('-------------------------------')\n",
    "        print('Billing Amount :   ', int(ui_prod_qn) * int(prod_details[2]))\n",
    "        print('-------------------------------')\n",
    "\n",
    "        prod_details[3] = str(int(prod_details[3]) - int(ui_prod_qn))\n",
    "\n",
    "    updated_product_lst.append(prod_details)\n",
    "\n",
    "fd = open('Inventory.txt', 'w')\n",
    "\n",
    "# for i, item in enumerate(updated_product_lst):\n",
    "#     product =','.join(item)\n",
    "\n",
    "#     if i<len(updated_product_lst)-1:\n",
    "#         product+='\\n'\n",
    "    \n",
    "#     fd.write(product)\n",
    "\n",
    "fd.write('\\n'.join([','.join(i) for i in updated_product_lst]))\n",
    "\n",
    "fd.close()\n",
    "\n",
    "print('Remaining Products: ')\n",
    "\n",
    "with open('Inventory.txt', 'r') as file:\n",
    "    print(file.read())"
   ]
  },
  {
   "cell_type": "code",
   "execution_count": null,
   "id": "ec944cd7",
   "metadata": {},
   "outputs": [],
   "source": []
  }
 ],
 "metadata": {
  "kernelspec": {
   "display_name": "base",
   "language": "python",
   "name": "python3"
  },
  "language_info": {
   "codemirror_mode": {
    "name": "ipython",
    "version": 3
   },
   "file_extension": ".py",
   "mimetype": "text/x-python",
   "name": "python",
   "nbconvert_exporter": "python",
   "pygments_lexer": "ipython3",
   "version": "3.8.20"
  }
 },
 "nbformat": 4,
 "nbformat_minor": 5
}

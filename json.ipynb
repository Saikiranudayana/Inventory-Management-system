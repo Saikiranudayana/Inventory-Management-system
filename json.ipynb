{
 "cells": [
  {
   "cell_type": "code",
   "execution_count": null,
   "id": "a55b53b6",
   "metadata": {},
   "outputs": [],
   "source": [
    "record= {1001:{\"Name\":\"5 star\",\"Price\":10,\"QTY\": 20}, \n",
    "         1002:{\"Name\":\"Bar-one\",\"Price\":15,\"QTY\": 25},\n",
    "         1003:{\"Name\":\"Sneakers\",\"Price\":38,\"QTY\": 30},\n",
    "         1004:{\"Name\":\"Milky bar\",\"Price\":40,\"QTY\": 30},\n",
    "         1005:{\"Name\":\"almonds\",\"Price\":28,\"QTY\": 68}}\n"
   ]
  },
  {
   "cell_type": "code",
   "execution_count": 4,
   "id": "b2e872d3",
   "metadata": {},
   "outputs": [
    {
     "data": {
      "text/plain": [
       "{1001: {'Name': '5 star', 'Price': 10, 'QTY': 20},\n",
       " 1002: {'Name': 'Bar-one', 'Price': 15, 'QTY': 25},\n",
       " 1003: {'Name': 'Sneakers', 'Price': 38, 'QTY': 30},\n",
       " 1004: {'Name': 'Milky bar', 'Price': 40, 'QTY': 30},\n",
       " 1005: {'Name': 'almonds', 'Price': 28, 'QTY': 68}}"
      ]
     },
     "execution_count": 4,
     "metadata": {},
     "output_type": "execute_result"
    }
   ],
   "source": [
    "record"
   ]
  },
  {
   "cell_type": "code",
   "execution_count": null,
   "id": "fa057680",
   "metadata": {},
   "outputs": [],
   "source": []
  }
 ],
 "metadata": {
  "kernelspec": {
   "display_name": "base",
   "language": "python",
   "name": "python3"
  },
  "language_info": {
   "codemirror_mode": {
    "name": "ipython",
    "version": 3
   },
   "file_extension": ".py",
   "mimetype": "text/x-python",
   "name": "python",
   "nbconvert_exporter": "python",
   "pygments_lexer": "ipython3",
   "version": "3.8.20"
  }
 },
 "nbformat": 4,
 "nbformat_minor": 5
}

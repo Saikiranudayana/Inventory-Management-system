{
 "cells": [
  {
   "cell_type": "code",
   "execution_count": 1,
   "id": "a55b53b6",
   "metadata": {},
   "outputs": [],
   "source": [
    "record= {1001:\"5 star\", 1002:\"Bar-one\",1003:\"Milky Bar\",1004:\"sneakers\",1005:\"black current\"}\n",
    "\n",
    "\n",
    "\n"
   ]
  },
  {
   "cell_type": "code",
   "execution_count": 2,
   "id": "b2e872d3",
   "metadata": {},
   "outputs": [
    {
     "data": {
      "text/plain": [
       "{1001: '5 star',\n",
       " 1002: 'Bar-one',\n",
       " 1003: 'Milky Bar',\n",
       " 1004: 'sneakers',\n",
       " 1005: 'black current'}"
      ]
     },
     "execution_count": 2,
     "metadata": {},
     "output_type": "execute_result"
    }
   ],
   "source": [
    "record"
   ]
  },
  {
   "cell_type": "code",
   "execution_count": null,
   "id": "fa057680",
   "metadata": {},
   "outputs": [],
   "source": []
  }
 ],
 "metadata": {
  "kernelspec": {
   "display_name": "base",
   "language": "python",
   "name": "python3"
  },
  "language_info": {
   "codemirror_mode": {
    "name": "ipython",
    "version": 3
   },
   "file_extension": ".py",
   "mimetype": "text/x-python",
   "name": "python",
   "nbconvert_exporter": "python",
   "pygments_lexer": "ipython3",
   "version": "3.8.20"
  }
 },
 "nbformat": 4,
 "nbformat_minor": 5
}

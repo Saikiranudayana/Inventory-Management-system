{
 "cells": [
  {
   "cell_type": "code",
   "execution_count": 11,
   "id": "a55b53b6",
   "metadata": {},
   "outputs": [],
   "source": [
    "import json\n",
    "\n",
    "record= {1001:{\"Name\":\"5 star\",\"Price\":10,\"QTY\": 20}, \n",
    "         1002:{\"Name\":\"Bar-one\",\"Price\":15,\"QTY\": 25},\n",
    "         1003:{\"Name\":\"Sneakers\",\"Price\":38,\"QTY\": 30},\n",
    "         1004:{\"Name\":\"Milky bar\",\"Price\":40,\"QTY\": 30},\n",
    "         1005:{\"Name\":\"almonds\",\"Price\":28,\"QTY\": 68}}\n"
   ]
  },
  {
   "cell_type": "code",
   "execution_count": 12,
   "id": "b2e872d3",
   "metadata": {},
   "outputs": [
    {
     "data": {
      "text/plain": [
       "{1001: {'Name': '5 star', 'Price': 10, 'QTY': 20},\n",
       " 1002: {'Name': 'Bar-one', 'Price': 15, 'QTY': 25},\n",
       " 1003: {'Name': 'Sneakers', 'Price': 38, 'QTY': 30},\n",
       " 1004: {'Name': 'Milky bar', 'Price': 40, 'QTY': 30},\n",
       " 1005: {'Name': 'almonds', 'Price': 28, 'QTY': 68}}"
      ]
     },
     "execution_count": 12,
     "metadata": {},
     "output_type": "execute_result"
    }
   ],
   "source": [
    "record"
   ]
  },
  {
   "cell_type": "code",
   "execution_count": 10,
   "id": "fa057680",
   "metadata": {},
   "outputs": [
    {
     "name": "stdout",
     "output_type": "stream",
     "text": [
      "-------MENU--------\n",
      "1001 : 5 star | 10 | 20\n",
      "1002 : Bar-one | 15 | 25\n",
      "1003 : Sneakers | 38 | 30\n",
      "1004 : Milky bar | 40 | 30\n",
      "1005 : almonds | 28 | 68\n",
      "--------------\n",
      "--------------------\n"
     ]
    },
    {
     "ename": "KeyError",
     "evalue": "'1004'",
     "output_type": "error",
     "traceback": [
      "\u001b[1;31m---------------------------------------------------------------------------\u001b[0m",
      "\u001b[1;31mKeyError\u001b[0m                                  Traceback (most recent call last)",
      "Cell \u001b[1;32mIn[10], line 15\u001b[0m\n\u001b[0;32m     10\u001b[0m ui_qn\u001b[38;5;241m=\u001b[39m \u001b[38;5;28minput\u001b[39m(\u001b[38;5;124m\"\u001b[39m\u001b[38;5;124mEnter the quantity\u001b[39m\u001b[38;5;124m\"\u001b[39m)\n\u001b[0;32m     12\u001b[0m \u001b[38;5;28mprint\u001b[39m(\u001b[38;5;124m'\u001b[39m\u001b[38;5;124m-\u001b[39m\u001b[38;5;124m'\u001b[39m\u001b[38;5;241m*\u001b[39m\u001b[38;5;241m20\u001b[39m)\n\u001b[1;32m---> 15\u001b[0m \u001b[38;5;28mprint\u001b[39m(\u001b[38;5;124m'\u001b[39m\u001b[38;5;124mName :\u001b[39m\u001b[38;5;124m'\u001b[39m,\u001b[43mrecord\u001b[49m\u001b[43m[\u001b[49m\u001b[43mui_pr\u001b[49m\u001b[43m]\u001b[49m[\u001b[38;5;124m'\u001b[39m\u001b[38;5;124mName\u001b[39m\u001b[38;5;124m'\u001b[39m])\n\u001b[0;32m     16\u001b[0m \u001b[38;5;28mprint\u001b[39m(\u001b[38;5;124m'\u001b[39m\u001b[38;5;124mPrice:\u001b[39m\u001b[38;5;124m'\u001b[39m,record[ui_pr][\u001b[38;5;124m'\u001b[39m\u001b[38;5;124mPrice\u001b[39m\u001b[38;5;124m'\u001b[39m])\n\u001b[0;32m     17\u001b[0m \u001b[38;5;28mprint\u001b[39m(\u001b[38;5;124m'\u001b[39m\u001b[38;5;124mQuantity:\u001b[39m\u001b[38;5;124m'\u001b[39m,ui_qn)\n",
      "\u001b[1;31mKeyError\u001b[0m: '1004'"
     ]
    }
   ],
   "source": [
    "print(\"-------MENU--------\")\n",
    "\n",
    "for key in record.keys():\n",
    "    print(key,':',record[key]['Name'],'|',record[key]['Price'],'|',record[key]['QTY'])\n",
    "    \n",
    "    \n",
    "print(\"--------------\")\n",
    "\n",
    "ui_pr = input(\"Enter the product ID\")\n",
    "ui_qn= input(\"Enter the quantity\")\n",
    "\n",
    "print('-'*20)\n",
    "\n",
    "\n",
    "print('Name :',record[ui_pr]['Name'])\n",
    "print('Price:',record[ui_pr]['Price'])\n",
    "print('Quantity:',ui_qn)\n",
    "\n",
    "\n",
    "print('-'*20)\n",
    "\n",
    "print('Biling amount:',record(ui_pr)['Price']* ui_qn)\n",
    "print('-'*20)\n",
    "\n"
   ]
  },
  {
   "cell_type": "code",
   "execution_count": null,
   "id": "d6077b1a",
   "metadata": {},
   "outputs": [],
   "source": []
  }
 ],
 "metadata": {
  "kernelspec": {
   "display_name": "base",
   "language": "python",
   "name": "python3"
  },
  "language_info": {
   "codemirror_mode": {
    "name": "ipython",
    "version": 3
   },
   "file_extension": ".py",
   "mimetype": "text/x-python",
   "name": "python",
   "nbconvert_exporter": "python",
   "pygments_lexer": "ipython3",
   "version": "3.8.20"
  }
 },
 "nbformat": 4,
 "nbformat_minor": 5
}
